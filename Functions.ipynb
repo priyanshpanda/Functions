{
  "nbformat": 4,
  "nbformat_minor": 0,
  "metadata": {
    "colab": {
      "provenance": []
    },
    "kernelspec": {
      "name": "python3",
      "display_name": "Python 3"
    },
    "language_info": {
      "name": "python"
    }
  },
  "cells": [
    {
      "cell_type": "code",
      "execution_count": null,
      "metadata": {
        "id": "QF-OpWAnqe36"
      },
      "outputs": [],
      "source": [
        "''' 1. Write a Python function that takes a list of numbers as input and returns the sum of all even numbers in\n",
        "the list.\n",
        "'''\n",
        "def fun0(a):\n",
        "  lst = []\n",
        "  for i in a:\n",
        "    if i % 2 == 0:\n",
        "      lst.append(i)\n",
        "  return sum(lst)"
      ]
    },
    {
      "cell_type": "code",
      "source": [
        "fun0([1,2,3,4,5,6,7])"
      ],
      "metadata": {
        "colab": {
          "base_uri": "https://localhost:8080/"
        },
        "id": "zljY7NsE1a0W",
        "outputId": "b36a0cba-2acf-4dd1-b951-4e345b5697a0"
      },
      "execution_count": null,
      "outputs": [
        {
          "output_type": "execute_result",
          "data": {
            "text/plain": [
              "12"
            ]
          },
          "metadata": {},
          "execution_count": 16
        }
      ]
    },
    {
      "cell_type": "code",
      "source": [
        "# 2. Create a Python function that accepts a string and returns the reverse of that string\n",
        "def fun1():\n",
        "  para = input('enter a str value: ')\n",
        "  return para[::-1]\n"
      ],
      "metadata": {
        "id": "3hIj3VTBCE4X"
      },
      "execution_count": null,
      "outputs": []
    },
    {
      "cell_type": "code",
      "source": [
        "fun1()"
      ],
      "metadata": {
        "colab": {
          "base_uri": "https://localhost:8080/",
          "height": 53
        },
        "id": "LKFzy_3TULl2",
        "outputId": "b14c9e12-235f-423c-8c8e-78ec6b968967"
      },
      "execution_count": null,
      "outputs": [
        {
          "name": "stdout",
          "output_type": "stream",
          "text": [
            "enter a str value: scuderia ferrai\n"
          ]
        },
        {
          "output_type": "execute_result",
          "data": {
            "text/plain": [
              "'iarref aireducs'"
            ],
            "application/vnd.google.colaboratory.intrinsic+json": {
              "type": "string"
            }
          },
          "metadata": {},
          "execution_count": 21
        }
      ]
    },
    {
      "cell_type": "code",
      "source": [
        "# 3.Implement a Python function that takes a list of integers and returns a new list containing the squares of number.\n",
        "lst1 = [10,20,30,40,50,60,70,80,90,100]\n",
        "new_list = list(map(lambda x: x**2, lst1))"
      ],
      "metadata": {
        "id": "qpWcKgC6UQnL"
      },
      "execution_count": null,
      "outputs": []
    },
    {
      "cell_type": "code",
      "source": [
        "print(new_list)"
      ],
      "metadata": {
        "colab": {
          "base_uri": "https://localhost:8080/"
        },
        "id": "U6e9FDtMWY2Y",
        "outputId": "f76bbffe-04a4-42a4-8aa7-1fb5a56e0e27"
      },
      "execution_count": null,
      "outputs": [
        {
          "output_type": "stream",
          "name": "stdout",
          "text": [
            "[100, 400, 900, 1600, 2500, 3600, 4900, 6400, 8100, 10000]\n"
          ]
        }
      ]
    },
    {
      "cell_type": "code",
      "source": [
        "#4. Write a Python function that checks if a given number is prime or not from 1 to 200.\n",
        "def is_prime(n):\n",
        "    if n <= 1:\n",
        "        return False\n",
        "    for i in range(2, int(n**0.5)+1):\n",
        "        if n % i == 0:\n",
        "            return False\n",
        "    return True\n",
        "\n",
        "primes = [n for n in range(1, 201) if is_prime(n)]\n",
        "print(primes)\n"
      ],
      "metadata": {
        "id": "6_65QSLWW1fq",
        "colab": {
          "base_uri": "https://localhost:8080/"
        },
        "outputId": "12ecf5d1-39f6-4049-cae0-af7006ffe164"
      },
      "execution_count": 66,
      "outputs": [
        {
          "output_type": "stream",
          "name": "stdout",
          "text": [
            "[2, 3, 5, 7, 11, 13, 17, 19, 23, 29, 31, 37, 41, 43, 47, 53, 59, 61, 67, 71, 73, 79, 83, 89, 97, 101, 103, 107, 109, 113, 127, 131, 137, 139, 149, 151, 157, 163, 167, 173, 179, 181, 191, 193, 197, 199]\n"
          ]
        }
      ]
    },
    {
      "cell_type": "code",
      "source": [
        "#5.Create an iterator in Python that generates the Fibonacci sequence up to a specified number of terms\n",
        "def fibonacci_iterator(n_terms):\n",
        "    state = {'a': 0, 'b': 1, 'count': 0}\n",
        "\n",
        "    def next_fib():\n",
        "        if state['count'] >= n_terms:\n",
        "            raise StopIteration\n",
        "        if state['count'] == 0:\n",
        "            state['count'] += 1\n",
        "            return 0\n",
        "        elif state['count'] == 1:\n",
        "            state['count'] += 1\n",
        "            return 1\n",
        "        else:\n",
        "            result = state['a'] + state['b']\n",
        "            state['a'], state['b'] = state['b'], result\n",
        "            state['count'] += 1\n",
        "            return result\n",
        "\n",
        "    return iter(next_fib, None)\n",
        "\n",
        "# Example usage:\n",
        "fib = fibonacci_iterator(10)\n",
        "for num in fib:\n",
        "    print(num, end=' ')"
      ],
      "metadata": {
        "id": "hX7oiNe-QVYd",
        "colab": {
          "base_uri": "https://localhost:8080/"
        },
        "outputId": "8a893a69-4aa7-44e1-adb4-37872e2f807a"
      },
      "execution_count": 82,
      "outputs": [
        {
          "output_type": "stream",
          "name": "stdout",
          "text": [
            "0 1 1 2 3 5 8 13 21 34 "
          ]
        }
      ]
    },
    {
      "cell_type": "code",
      "source": [
        "#6 Write a generator function in Python that yields the powers of 2 up to a given exponent.\n",
        "def powers_of_two(max_exponent):\n",
        "    for i in range(max_exponent + 1):\n",
        "        yield 2 ** i\n",
        "\n",
        "for power in powers_of_two(5):\n",
        "    print(power, end=' ')\n"
      ],
      "metadata": {
        "id": "MmPyjiGKl52v",
        "colab": {
          "base_uri": "https://localhost:8080/"
        },
        "outputId": "9521582e-b0cc-48be-a787-a3a3ed9655ee"
      },
      "execution_count": 67,
      "outputs": [
        {
          "output_type": "stream",
          "name": "stdout",
          "text": [
            "1 2 4 8 16 32 "
          ]
        }
      ]
    },
    {
      "cell_type": "code",
      "source": [
        "#7. Implement a generator function that reads a file line by line and yields each line as a string.\n",
        "def read_file_line_by_line(filename):\n",
        "    with open(filename, 'r') as file:\n",
        "        for line in file:\n",
        "            yield line.strip()\n",
        "\n",
        "for line in read_file_line_by_line(\"sample.txt\"):\n",
        "    print(line)\n"
      ],
      "metadata": {
        "id": "CQ7p9YnWCdmQ",
        "colab": {
          "base_uri": "https://localhost:8080/"
        },
        "outputId": "f1f66ff7-7d8c-467b-c185-a4c74cf7d3e7"
      },
      "execution_count": 86,
      "outputs": [
        {
          "output_type": "stream",
          "name": "stdout",
          "text": [
            "Formula 1 Drivers Championship 2025\n",
            "1. Max Verstappen - Red Bull Racing\n",
            "2. Charles Leclerc - Ferrari\n",
            "3. Lewis Hamilton - Mercedes\n",
            "4. Lando Norris - McLaren\n",
            "5. George Russell - Mercedes\n"
          ]
        }
      ]
    },
    {
      "cell_type": "code",
      "source": [
        "#  8. Use a lambda function in Python to sort a list of tuples based on the second element of each tuple\n",
        "tuples_list = [(1, 3), (2, 1), (4, 2)]\n",
        "sorted_list = sorted(tuples_list, key=lambda x: x[1])\n",
        "print(sorted_list)"
      ],
      "metadata": {
        "colab": {
          "base_uri": "https://localhost:8080/"
        },
        "id": "0edJEANxgVPo",
        "outputId": "6d50ca2d-8581-46c8-c2ac-9a123a33d751"
      },
      "execution_count": 68,
      "outputs": [
        {
          "output_type": "stream",
          "name": "stdout",
          "text": [
            "[(2, 1), (4, 2), (1, 3)]\n"
          ]
        }
      ]
    },
    {
      "cell_type": "code",
      "source": [
        "#  9. Write a Python program that uses `map()` to convert a list of temperatures from Celsius to Fahrenheit\n",
        "celsius = [0, 10, 20, 30]\n",
        "fahrenheit = list(map(lambda c: (c * 9/5) + 32, celsius))\n",
        "print(fahrenheit)"
      ],
      "metadata": {
        "colab": {
          "base_uri": "https://localhost:8080/"
        },
        "id": "3ODWD1G5ghQL",
        "outputId": "04a38202-40f7-4f00-f64f-40b1080430f1"
      },
      "execution_count": 71,
      "outputs": [
        {
          "output_type": "stream",
          "name": "stdout",
          "text": [
            "[32.0, 50.0, 68.0, 86.0]\n"
          ]
        }
      ]
    },
    {
      "cell_type": "code",
      "source": [
        "# 10. Create a Python program that uses `filter()` to remove all the vowels from a given string.\n",
        "def remove_vowels(s):\n",
        "    vowels = 'aeiouAEIOU'\n",
        "    return ''.join(filter(lambda x: x not in vowels, s))\n",
        "\n",
        "print(remove_vowels(\"fernendo alonoso\"))"
      ],
      "metadata": {
        "colab": {
          "base_uri": "https://localhost:8080/"
        },
        "id": "wuZiqb_RgzWy",
        "outputId": "e44c6b82-983a-4932-e79b-25ba92defc5f"
      },
      "execution_count": 72,
      "outputs": [
        {
          "output_type": "stream",
          "name": "stdout",
          "text": [
            "frnnd lns\n"
          ]
        }
      ]
    },
    {
      "cell_type": "code",
      "source": [
        "# 11. imagine an accounting routine used in a book shop. It works on a list with sublists, which look like this:\n",
        "orders = [\n",
        "    [\"34587\", \"Learning Python\", 4, 40.95],\n",
        "    [\"98762\", \"Programming Python\", 5, 56.80],\n",
        "    [\"77226\", \"Head First Python\", 3, 32.95],\n",
        "    [\"88112\", \"Einführung in Python3\", 3, 24.99]\n",
        "]\n",
        "\n",
        "final_orders = list(map(\n",
        "    lambda order: (\n",
        "        order[0],\n",
        "        round(order[2] * order[3] + (10 if order[2] * order[3] < 100 else 0), 2)\n",
        "    ),\n",
        "    orders\n",
        "))\n",
        "\n",
        "print(\"Final Order Summary (Order ID, Total Amount in €):\")\n",
        "for order in final_orders:\n",
        "    print(order)\n"
      ],
      "metadata": {
        "colab": {
          "base_uri": "https://localhost:8080/"
        },
        "id": "CE7Mg3Spgz1m",
        "outputId": "00a9598e-1f79-43ff-c94c-6acd0142450d"
      },
      "execution_count": 77,
      "outputs": [
        {
          "output_type": "stream",
          "name": "stdout",
          "text": [
            "Final Order Summary (Order ID, Total Amount in €):\n",
            "('34587', 163.8)\n",
            "('98762', 284.0)\n",
            "('77226', 108.85)\n",
            "('88112', 84.97)\n"
          ]
        }
      ]
    }
  ]
}